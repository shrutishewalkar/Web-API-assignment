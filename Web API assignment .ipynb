{
 "cells": [
  {
   "cell_type": "markdown",
   "id": "470fe870-abbd-423c-bba1-1abda8c7d80b",
   "metadata": {},
   "source": [
    "Que 1: what is an API? give a example,where an API is used in real life."
   ]
  },
  {
   "cell_type": "markdown",
   "id": "35163083-3993-4d08-9a90-24cc81dd5f61",
   "metadata": {},
   "source": [
    "APIs stands for Application Programming Interface.APIs are mechanism that enable two software components to communicate with eacg other using a set of definitions and protocols.\n",
    "for example:APIs are used in web application to connect user-facing front ends with critical back-end functionally and data. APIs are used to deliver material by streaming servicessuch as spotify and Netflix .APIs are used by automakers such as tesla to provide software upgrades."
   ]
  },
  {
   "cell_type": "markdown",
   "id": "ad0886c6-c3f9-4147-89ed-2519f6853fb1",
   "metadata": {},
   "source": [
    "Que2: give advantages and dis advantages of using APIs? "
   ]
  },
  {
   "cell_type": "markdown",
   "id": "88fa1bf5-a9cc-4c30-b5dd-5cc62000382e",
   "metadata": {},
   "source": [
    "Ans: Advantages: 1.Automation. when using an API managed by computers, less human offort is required and workflows can be easily updates to become faster and more  productive.\n",
    "2.Developer efficiency and innovation: APIs empower to ba more productive by reusing code in complex but repetitive processes.they dont need to start from scratch as the API specifies how to assemble software components in a program.\n",
    "3. improved value proposition: by using APIs made available by companies such as Amazon , Salesforce, or twitter ,an application can intregate those service into their own systems to make themselves more attractive to customers.\n"
   ]
  },
  {
   "cell_type": "markdown",
   "id": "0d9e6221-a563-440a-9920-2308b03b3e54",
   "metadata": {},
   "source": [
    "Disadvantages: 1. creating API is a very time-consuming process.\n",
    "2. A fixed scale is necessary\n",
    "3. imprecise boundary delineation.\n",
    "4. to create API, programming knowledge is necessary.\n",
    "5. maintenance cost is very high.\n",
    "6. it can crash when testing API."
   ]
  },
  {
   "cell_type": "markdown",
   "id": "fa71c08e-f953-434d-8431-fe0ba125fe9f",
   "metadata": {},
   "source": [
    "Que3: what is a web API ? difference between API and WEB API."
   ]
  },
  {
   "cell_type": "markdown",
   "id": "08956538-9a09-40a3-abff-0b2de4fca792",
   "metadata": {},
   "source": [
    "Ans: A web API is an application programming interface for eitheer a web server or a web browser.As a web delevopment client side(including any web framework being used).A server-side web API consists of one or more publicaly exposed endpoints to a defined request -response message system, typically expressed in JSON or XML by means of an HTTP - based web server . A server API is not considered a server -side web API,unless it is publicaly accessible by a remote web application."
   ]
  },
  {
   "cell_type": "markdown",
   "id": "a80a0927-010f-4a1b-a5be-9a3aef49ddc3",
   "metadata": {},
   "source": [
    "API(Application Programming Interafce)\n",
    "\n",
    "All APIs are not NOT web API.\n",
    "API can be hosted within the application or we server.\n",
    "API may use any style of communication.\n",
    "An API acts as an interface between 2 different applications so that they can communicate eacg other.\n"
   ]
  },
  {
   "cell_type": "markdown",
   "id": "75dbdc16-91d5-4c3b-a993-3c17702bc2aa",
   "metadata": {},
   "source": [
    "web API\n",
    "\n",
    "All we service are APIs.\n",
    "it can only be hosted on web service\n",
    "A web service uses limited communication like SOAP , REST and XML-RPC\n",
    "web service facilitates interreaction betwwn 2 machine over network."
   ]
  },
  {
   "cell_type": "markdown",
   "id": "12bbf538-76fd-410f-8f3d-b15c64782629",
   "metadata": {},
   "source": [
    "Que4: explain REST and SOAP architecture . mension shortcomings of SOAP."
   ]
  },
  {
   "cell_type": "markdown",
   "id": "1fa689b2-945e-4b57-b0fc-bdb49b3465e2",
   "metadata": {},
   "source": [
    "REST: The Representational State Transfer architectural style is a worldview that elevates information into a first-class element of architectures. REST allow us to achieve the architectural properties of performance , scalability, generality, simplicity, modifiability, and extensibility."
   ]
  },
  {
   "cell_type": "markdown",
   "id": "2a91503c-5f8f-450f-b775-f22b7b61691d",
   "metadata": {},
   "source": [
    "SOAP:A SOAP web services architecture is absed on interactions between three componants: a service provider , a service requester, and an optional service registry. A SOAP message is encoded as an XML document,consisting of an Envelope element, which contains an optional Header element, and a mandatory Body element. "
   ]
  },
  {
   "cell_type": "markdown",
   "id": "d0cbdf01-6b34-4d73-9ad1-6e9e8a584b5c",
   "metadata": {},
   "source": [
    "shortcoming of soap: As SOAP API will be less performant, as XML is a verbose format compare to JSON . API calls made to your server will need more bandwidth and it will take more time to process the request and transfer the response back to the client."
   ]
  },
  {
   "cell_type": "markdown",
   "id": "0c4dd3ad-cb1b-48f7-a50e-2d0aad457146",
   "metadata": {},
   "source": [
    "Que5 : Difference between REST and SOAP"
   ]
  },
  {
   "cell_type": "markdown",
   "id": "5cc689cc-31eb-40c9-ba6f-e318b83ebc39",
   "metadata": {},
   "source": [
    "Ans: 1. SOAP is a protocol, REST is an architectural style.\n",
    "2. SOAP stands for simple object access protocol, REST stands for REpresentational State Treansfer.\n",
    "3.SOAP can't use REST because it is a protocol, REST can use SOAP web services because it is a concept and can use any protocol like HTTP, SOAP.\n",
    "4. SOAP uses service interface to expose the business logic, REST uses URI to expose business logic.\n",
    "5SOAP defines its own security, REST ful web services inherits security measures from the underlying transport"
   ]
  }
 ],
 "metadata": {
  "kernelspec": {
   "display_name": "Python 3 (ipykernel)",
   "language": "python",
   "name": "python3"
  },
  "language_info": {
   "codemirror_mode": {
    "name": "ipython",
    "version": 3
   },
   "file_extension": ".py",
   "mimetype": "text/x-python",
   "name": "python",
   "nbconvert_exporter": "python",
   "pygments_lexer": "ipython3",
   "version": "3.10.8"
  }
 },
 "nbformat": 4,
 "nbformat_minor": 5
}
